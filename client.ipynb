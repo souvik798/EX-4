{
 "cells": [
  {
   "cell_type": "code",
   "execution_count": null,
   "metadata": {},
   "outputs": [],
   "source": [
    "## Developed : Kavinraja D\n",
    "## Reg no : 212222240047\n",
    "import socket\n",
    "s=socket.socket()\n",
    "s.bind(('localhost',8000))\n",
    "s.listen(5)\n",
    "c,addr=s.accept()\n",
    "address={\"165.165.80.80\":\"6A:08:AA:C2\",\"165.165.79.1\":\"8A:BC:E3:FA\"};\n",
    "while True:\n",
    "    ip=c.recv(1024).decode()\n",
    "    try:\n",
    "        c.send(address[ip].encode())\n",
    "    except KeyError:\n",
    "        c.send(\"Not Found\".encode())"
   ]
  }
 ],
 "metadata": {
  "kernelspec": {
   "display_name": "Python 3",
   "language": "python",
   "name": "python3"
  },
  "language_info": {
   "codemirror_mode": {
    "name": "ipython",
    "version": 3
   },
   "file_extension": ".py",
   "mimetype": "text/x-python",
   "name": "python",
   "nbconvert_exporter": "python",
   "pygments_lexer": "ipython3",
   "version": "3.11.0"
  },
  "orig_nbformat": 4
 },
 "nbformat": 4,
 "nbformat_minor": 2
}
