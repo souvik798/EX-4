{
 "cells": [
  {
   "cell_type": "code",
   "execution_count": 1,
   "metadata": {},
   "outputs": [
    {
     "name": "stdout",
     "output_type": "stream",
     "text": [
      "MAC Address 6A:08:AA:C2\n"
     ]
    }
   ],
   "source": [
    "import socket\n",
    "s=socket.socket()\n",
    "s.connect(('localhost',8000))\n",
    "while True:\n",
    "    ip=input(\"Enter logical Address : \")\n",
    "    s.send(ip.encode())\n",
    "    print(\"MAC Address\",s.recv(1024).decode())"
   ]
  }
 ],
 "metadata": {
  "kernelspec": {
   "display_name": "Python 3",
   "language": "python",
   "name": "python3"
  },
  "language_info": {
   "codemirror_mode": {
    "name": "ipython",
    "version": 3
   },
   "file_extension": ".py",
   "mimetype": "text/x-python",
   "name": "python",
   "nbconvert_exporter": "python",
   "pygments_lexer": "ipython3",
   "version": "3.11.0"
  },
  "orig_nbformat": 4
 },
 "nbformat": 4,
 "nbformat_minor": 2
}
